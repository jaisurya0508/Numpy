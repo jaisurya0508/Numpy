{
 "cells": [
  {
   "cell_type": "markdown",
   "metadata": {},
   "source": [
    "## Universal functions ufunc"
   ]
  },
  {
   "cell_type": "code",
   "execution_count": 2,
   "metadata": {},
   "outputs": [],
   "source": [
    "import numpy as np"
   ]
  },
  {
   "cell_type": "code",
   "execution_count": 3,
   "metadata": {},
   "outputs": [
    {
     "name": "stdout",
     "output_type": "stream",
     "text": [
      "[ 0 20 45 60 90]\n"
     ]
    }
   ],
   "source": [
    "degree=np.array([0,20,45,60,90])\n",
    "print(degree)\n"
   ]
  },
  {
   "cell_type": "code",
   "execution_count": 4,
   "metadata": {},
   "outputs": [
    {
     "name": "stdout",
     "output_type": "stream",
     "text": [
      "[0.         0.34906585 0.78539816 1.04719755 1.57079633]\n"
     ]
    }
   ],
   "source": [
    "#convert degree to radian\n",
    "radian=np.deg2rad(degree)\n",
    "print(radian)"
   ]
  },
  {
   "cell_type": "markdown",
   "metadata": {},
   "source": [
    "### sin,inverse sin,hyberbolic,inverse hyperbolic,hypot,ceil,floor,exp,square,rint,isna,isfinite,log,log10,log2,log1p,"
   ]
  },
  {
   "cell_type": "code",
   "execution_count": 5,
   "metadata": {},
   "outputs": [
    {
     "name": "stdout",
     "output_type": "stream",
     "text": [
      "Sine of angles in the array:\n",
      "[0.         0.34202014 0.70710678 0.8660254  1.        ]\n"
     ]
    }
   ],
   "source": [
    "#sin\n",
    "print('Sine of angles in the array:') \n",
    "sine_value = np.sin(radian) \n",
    "print(sine_value)\n"
   ]
  },
  {
   "cell_type": "code",
   "execution_count": 6,
   "metadata": {},
   "outputs": [
    {
     "name": "stdout",
     "output_type": "stream",
     "text": [
      "cos of angles in the array:\n",
      "[1.00000000e+00 9.39692621e-01 7.07106781e-01 5.00000000e-01\n",
      " 6.12323400e-17]\n"
     ]
    }
   ],
   "source": [
    "#cos\n",
    "print('cos of angles in the array:') \n",
    "cos_value = np.cos(radian) \n",
    "print(cos_value)"
   ]
  },
  {
   "cell_type": "code",
   "execution_count": 7,
   "metadata": {},
   "outputs": [
    {
     "name": "stdout",
     "output_type": "stream",
     "text": [
      "tan of angles in the array:\n",
      "[0.00000000e+00 3.63970234e-01 1.00000000e+00 1.73205081e+00\n",
      " 1.63312394e+16]\n"
     ]
    }
   ],
   "source": [
    "#tan\n",
    "print('tan of angles in the array:') \n",
    "tan_value = np.tan(radian) \n",
    "print(tan_value)"
   ]
  },
  {
   "cell_type": "code",
   "execution_count": 8,
   "metadata": {},
   "outputs": [
    {
     "name": "stdout",
     "output_type": "stream",
     "text": [
      "Inverse Sine of sine values:\n",
      "[ 0. 20. 45. 60. 90.]\n"
     ]
    }
   ],
   "source": [
    "# inverse sine of sine values \n",
    "print('Inverse Sine of sine values:') \n",
    "print(np.rad2deg(np.arcsin(sine_value))) "
   ]
  },
  {
   "cell_type": "code",
   "execution_count": 8,
   "metadata": {},
   "outputs": [
    {
     "name": "stdout",
     "output_type": "stream",
     "text": [
      "cose of angles in the array:\n",
      "[0.         0.34906585 0.78539816 1.04719755 1.57079633]\n"
     ]
    }
   ],
   "source": [
    "print('cose of angles in the array:') \n",
    "cos_value = np.arccos(cos_value) \n",
    "print(cos_value)"
   ]
  },
  {
   "cell_type": "code",
   "execution_count": 9,
   "metadata": {},
   "outputs": [
    {
     "name": "stdout",
     "output_type": "stream",
     "text": [
      "tan of angles in the array:\n",
      "[0.         0.34906585 0.78539816 1.04719755 1.57079633]\n"
     ]
    }
   ],
   "source": [
    "print('tan of angles in the array:') \n",
    "tan_value = np.arctan(tan_value) \n",
    "print(tan_value)"
   ]
  },
  {
   "cell_type": "code",
   "execution_count": 10,
   "metadata": {},
   "outputs": [
    {
     "name": "stdout",
     "output_type": "stream",
     "text": [
      "Sine hyperbolic of angles in the array:\n",
      "[0.         0.35619793 0.86867096 1.24936705 2.3012989 ]\n"
     ]
    }
   ],
   "source": [
    "# hyperbolic sine of angles \n",
    "print('Sine hyperbolic of angles in the array:') \n",
    "sineh_value = np.sinh(radian) \n",
    "print(np.sinh(radian)) "
   ]
  },
  {
   "cell_type": "code",
   "execution_count": 32,
   "metadata": {},
   "outputs": [
    {
     "name": "stdout",
     "output_type": "stream",
     "text": [
      "cose hyperbolic of angles in the array:\n",
      "[1.         1.06154461 1.32460909 1.60028686 2.50917848]\n"
     ]
    }
   ],
   "source": [
    "print('cose hyperbolic of angles in the array:') \n",
    "coseh_value = np.cosh(radian) \n",
    "print(np.cosh(radian)) \n"
   ]
  },
  {
   "cell_type": "code",
   "execution_count": 33,
   "metadata": {},
   "outputs": [
    {
     "name": "stdout",
     "output_type": "stream",
     "text": [
      "tanhyperbolic of angles in the array:\n",
      "[0.         0.33554683 0.6557942  0.78071444 0.91715234]\n"
     ]
    }
   ],
   "source": [
    "print('tanhyperbolic of angles in the array:') \n",
    "tanh_value = np.tanh(radian) \n",
    "print(np.tanh(radian)) "
   ]
  },
  {
   "cell_type": "code",
   "execution_count": 34,
   "metadata": {},
   "outputs": [
    {
     "name": "stdout",
     "output_type": "stream",
     "text": [
      "Inverse Sine hyperbolic:\n",
      "[0.         0.34871335 0.76347126 0.94878485 0.74483916]\n"
     ]
    }
   ],
   "source": [
    "# inverse sine hyperbolic  \n",
    "print('Inverse Sine hyperbolic:') \n",
    "print(np.sin(sineh_value)) "
   ]
  },
  {
   "cell_type": "code",
   "execution_count": 35,
   "metadata": {},
   "outputs": [
    {
     "name": "stdout",
     "output_type": "stream",
     "text": [
      "Inverse cose hyperbolic:\n",
      "[ 0.54030231  0.48752405  0.24370794 -0.02948626 -0.80660286]\n"
     ]
    }
   ],
   "source": [
    "print('Inverse cose hyperbolic:') \n",
    "print(np.cos(coseh_value)) "
   ]
  },
  {
   "cell_type": "code",
   "execution_count": 36,
   "metadata": {},
   "outputs": [
    {
     "name": "stdout",
     "output_type": "stream",
     "text": [
      "Inverse tan hyperbolic:\n",
      "[1.         0.94423039 0.79256388 0.71041091 0.6080833 ]\n"
     ]
    }
   ],
   "source": [
    "print('Inverse tan hyperbolic:') \n",
    "print(np.cos(tanh_value)) "
   ]
  },
  {
   "cell_type": "code",
   "execution_count": 14,
   "metadata": {},
   "outputs": [
    {
     "name": "stdout",
     "output_type": "stream",
     "text": [
      "hypotenuse of right triangle is:\n",
      "5.0\n"
     ]
    }
   ],
   "source": [
    "# hypot function demonstration \n",
    "base = 4\n",
    "height = 3\n",
    "print('hypotenuse of right triangle is:') \n",
    "print(np.hypot(base, height)) "
   ]
  },
  {
   "cell_type": "code",
   "execution_count": 9,
   "metadata": {},
   "outputs": [
    {
     "name": "stdout",
     "output_type": "stream",
     "text": [
      "[ 81.9 100.6   4.   64. ]\n"
     ]
    }
   ],
   "source": [
    "#abs\n",
    "b=np.array([-81.9,100.6,4,64])\n",
    "print(np.abs(b))"
   ]
  },
  {
   "cell_type": "code",
   "execution_count": 10,
   "metadata": {},
   "outputs": [
    {
     "name": "stdout",
     "output_type": "stream",
     "text": [
      "[ 9. 10.  2.  8.]\n"
     ]
    }
   ],
   "source": [
    "#square\n",
    "b=np.array([81,100,4,64])\n",
    "print(np.sqrt(b))"
   ]
  },
  {
   "cell_type": "code",
   "execution_count": 11,
   "metadata": {},
   "outputs": [
    {
     "name": "stdout",
     "output_type": "stream",
     "text": [
      "[1.50609731e+35 2.68811714e+43 5.45981500e+01 6.23514908e+27]\n"
     ]
    }
   ],
   "source": [
    "#exp\n",
    "b=np.array([81,100,4,64])\n",
    "print(np.exp(b))"
   ]
  },
  {
   "cell_type": "code",
   "execution_count": 12,
   "metadata": {},
   "outputs": [
    {
     "name": "stdout",
     "output_type": "stream",
     "text": [
      "[ 82. 101.   5.  64.]\n"
     ]
    }
   ],
   "source": [
    "#ceil \n",
    "b=np.array([81.8,100.2,4.8,64])\n",
    "print(np.ceil(b))"
   ]
  },
  {
   "cell_type": "code",
   "execution_count": 13,
   "metadata": {},
   "outputs": [
    {
     "name": "stdout",
     "output_type": "stream",
     "text": [
      "[ 81. 100.   4.  64.]\n"
     ]
    }
   ],
   "source": [
    "#floor \n",
    "b=np.array([81.4,100.2,4.9,64])\n",
    "print(np.floor(b))"
   ]
  },
  {
   "cell_type": "code",
   "execution_count": 15,
   "metadata": {},
   "outputs": [
    {
     "name": "stdout",
     "output_type": "stream",
     "text": [
      "[ 81. 100.   9.  64.]\n"
     ]
    }
   ],
   "source": [
    "#rint\n",
    "b=np.array([80.8,100,8.6,64.4])\n",
    "print(np.rint(b))"
   ]
  },
  {
   "cell_type": "code",
   "execution_count": 18,
   "metadata": {},
   "outputs": [
    {
     "name": "stdout",
     "output_type": "stream",
     "text": [
      "[False False False False]\n"
     ]
    }
   ],
   "source": [
    "#isnan\n",
    "b=np.array([81,8,4,64])\n",
    "print(np.isnan(b))"
   ]
  },
  {
   "cell_type": "code",
   "execution_count": 19,
   "metadata": {},
   "outputs": [
    {
     "name": "stdout",
     "output_type": "stream",
     "text": [
      "[ True  True  True  True]\n"
     ]
    }
   ],
   "source": [
    "#isfinite \n",
    "b=np.array([81,100,4,64])\n",
    "print(np.isfinite(b))"
   ]
  },
  {
   "cell_type": "code",
   "execution_count": 20,
   "metadata": {},
   "outputs": [
    {
     "name": "stdout",
     "output_type": "stream",
     "text": [
      "(array([0.4, 0.2, 0.2, 0.4, 0.3]), array([23., 34., 67., 12., 78.]))\n"
     ]
    }
   ],
   "source": [
    "#ismodf\n",
    "a=np.array([23.4,34.2,67.2,12.4,78.3])\n",
    "print(np.modf(a))"
   ]
  },
  {
   "cell_type": "code",
   "execution_count": 21,
   "metadata": {},
   "outputs": [
    {
     "name": "stdout",
     "output_type": "stream",
     "text": [
      "[3.15273602 3.53222564 4.20767325 2.51769647 4.3605476 ]\n"
     ]
    }
   ],
   "source": [
    "#log,log10,log2,log1p,\n",
    "#abs\n",
    "a=np.array([23.4,34.2,67.2,12.4,78.3])\n",
    "print(np.log(a))"
   ]
  },
  {
   "cell_type": "code",
   "execution_count": 22,
   "metadata": {},
   "outputs": [
    {
     "name": "stdout",
     "output_type": "stream",
     "text": [
      "[3.19458313 3.56104608 4.22244456 2.59525471 4.37323813]\n"
     ]
    }
   ],
   "source": [
    "a=np.array([23.4,34.2,67.2,12.4,78.3])\n",
    "print(np.log1p(a))"
   ]
  },
  {
   "cell_type": "code",
   "execution_count": 23,
   "metadata": {},
   "outputs": [
    {
     "name": "stdout",
     "output_type": "stream",
     "text": [
      "[1.36921586 1.53402611 1.82736927 1.09342169 1.89376176]\n"
     ]
    }
   ],
   "source": [
    "a=np.array([23.4,34.2,67.2,12.4,78.3])\n",
    "print(np.log10(a))"
   ]
  },
  {
   "cell_type": "code",
   "execution_count": 24,
   "metadata": {},
   "outputs": [
    {
     "name": "stdout",
     "output_type": "stream",
     "text": [
      "[4.54843662 5.09592442 6.07038933 3.63226822 6.2909404 ]\n"
     ]
    }
   ],
   "source": [
    "a=np.array([23.4,34.2,67.2,12.4,78.3])\n",
    "print(np.log2(a))"
   ]
  },
  {
   "cell_type": "markdown",
   "metadata": {},
   "source": [
    "### Statistical functions"
   ]
  },
  {
   "cell_type": "code",
   "execution_count": 25,
   "metadata": {},
   "outputs": [
    {
     "name": "stdout",
     "output_type": "stream",
     "text": [
      "22\n",
      "79\n"
     ]
    }
   ],
   "source": [
    "#max and min weight\n",
    "weight=np.array([45,78,56,34,57,79,22])\n",
    "print(np.min(weight))\n",
    "print(np.max(weight))"
   ]
  },
  {
   "cell_type": "code",
   "execution_count": 26,
   "metadata": {},
   "outputs": [
    {
     "name": "stdout",
     "output_type": "stream",
     "text": [
      "Range of the weight of the students: \n",
      "57\n"
     ]
    }
   ],
   "source": [
    "# range of weight i.e. max weight-min weight \n",
    "print('Range of the weight of the students: ') \n",
    "print(np.ptp(weight)) "
   ]
  },
  {
   "cell_type": "code",
   "execution_count": 29,
   "metadata": {},
   "outputs": [
    {
     "name": "stdout",
     "output_type": "stream",
     "text": [
      "Weight below which 70 % student fall: \n",
      "61.19999999999998\n"
     ]
    }
   ],
   "source": [
    "# percentile \n",
    "print('Weight below which 70 % student fall: ') \n",
    "print(np.percentile(weight, 70)) "
   ]
  },
  {
   "cell_type": "code",
   "execution_count": 30,
   "metadata": {},
   "outputs": [
    {
     "name": "stdout",
     "output_type": "stream",
     "text": [
      "Mean weight of the students: \n",
      "53.0\n",
      "Median weight of the students: \n",
      "56.0\n"
     ]
    }
   ],
   "source": [
    "# mean  \n",
    "print('Mean weight of the students: ') \n",
    "print(np.mean(weight)) \n",
    "  \n",
    "# median  \n",
    "print('Median weight of the students: ') \n",
    "print(np.median(weight))"
   ]
  },
  {
   "cell_type": "code",
   "execution_count": 31,
   "metadata": {},
   "outputs": [
    {
     "name": "stdout",
     "output_type": "stream",
     "text": [
      "Standard deviation of weight of the students: \n",
      "19.683205313885527\n",
      "Variance of weight of the students: \n",
      "387.42857142857144\n"
     ]
    }
   ],
   "source": [
    "# standard deviation  \n",
    "print('Standard deviation of weight of the students: ') \n",
    "print(np.std(weight)) \n",
    "  \n",
    "# variance  \n",
    "print('Variance of weight of the students: ') \n",
    "print(np.var(weight)) \n",
    "  "
   ]
  },
  {
   "cell_type": "code",
   "execution_count": 32,
   "metadata": {},
   "outputs": [
    {
     "name": "stdout",
     "output_type": "stream",
     "text": [
      "Average weight of the students: \n",
      "53.0\n"
     ]
    }
   ],
   "source": [
    "# average  \n",
    "print('Average weight of the students: ') \n",
    "print(np.average(weight)) "
   ]
  },
  {
   "cell_type": "code",
   "execution_count": 33,
   "metadata": {},
   "outputs": [
    {
     "name": "stdout",
     "output_type": "stream",
     "text": [
      "bitwise_and of two arrays: \n",
      "[ 0  2  4  6  8 16 32]\n"
     ]
    }
   ],
   "source": [
    "# construct an array of even and odd numbers \n",
    "even = np.array([0, 2, 4, 6, 8, 16, 32]) \n",
    "odd = np.array([1, 3, 5, 7, 9, 17, 33]) \n",
    "  \n",
    "# bitwise_and \n",
    "print('bitwise_and of two arrays: ') \n",
    "print(np.bitwise_and(even, odd)) \n",
    "  "
   ]
  },
  {
   "cell_type": "code",
   "execution_count": 34,
   "metadata": {},
   "outputs": [
    {
     "name": "stdout",
     "output_type": "stream",
     "text": [
      "bitwise_or of two arrays: \n",
      "[ 1  3  5  7  9 17 33]\n"
     ]
    }
   ],
   "source": [
    "print('bitwise_or of two arrays: ') \n",
    "print(np.bitwise_or(even, odd)) "
   ]
  },
  {
   "cell_type": "code",
   "execution_count": 35,
   "metadata": {},
   "outputs": [
    {
     "name": "stdout",
     "output_type": "stream",
     "text": [
      "bitwise_xor of two arrays: \n",
      "[1 1 1 1 1 1 1]\n",
      "inversion of even no. array: \n",
      "[ -1  -3  -5  -7  -9 -17 -33]\n",
      "left_shift of even no. array: \n",
      "[ 0  4  8 12 16 32 64]\n",
      "right_shift of even no. array: \n",
      "[ 0  1  2  3  4  8 16]\n"
     ]
    }
   ],
   "source": [
    "# bitwise_xor \n",
    "print('bitwise_xor of two arrays: ') \n",
    "print(np.bitwise_xor(even, odd)) \n",
    "   \n",
    "# invert or not \n",
    "print('inversion of even no. array: ') \n",
    "print(np.invert(even)) \n",
    "  \n",
    "# left_shift  \n",
    "print('left_shift of even no. array: ') \n",
    "print(np.left_shift(even, 1)) \n",
    "  \n",
    "# right_shift  \n",
    "print('right_shift of even no. array: ') \n",
    "print(np.right_shift(even, 1)) \n"
   ]
  },
  {
   "cell_type": "markdown",
   "metadata": {},
   "source": [
    "### Boolean"
   ]
  },
  {
   "cell_type": "code",
   "execution_count": 36,
   "metadata": {},
   "outputs": [
    {
     "data": {
      "text/plain": [
       "True"
      ]
     },
     "execution_count": 36,
     "metadata": {},
     "output_type": "execute_result"
    }
   ],
   "source": [
    "bools=np.array([False,False,True,False])\n",
    "bools.any() #or"
   ]
  },
  {
   "cell_type": "code",
   "execution_count": 37,
   "metadata": {},
   "outputs": [
    {
     "data": {
      "text/plain": [
       "False"
      ]
     },
     "execution_count": 37,
     "metadata": {},
     "output_type": "execute_result"
    }
   ],
   "source": [
    "bools.all() #and"
   ]
  },
  {
   "cell_type": "code",
   "execution_count": 38,
   "metadata": {},
   "outputs": [
    {
     "data": {
      "text/plain": [
       "True"
      ]
     },
     "execution_count": 38,
     "metadata": {},
     "output_type": "execute_result"
    }
   ],
   "source": [
    "bools=np.array([True,True,True,True])\n",
    "bools.any() #or"
   ]
  },
  {
   "cell_type": "markdown",
   "metadata": {},
   "source": [
    "### Sorting"
   ]
  },
  {
   "cell_type": "code",
   "execution_count": 39,
   "metadata": {},
   "outputs": [
    {
     "data": {
      "text/plain": [
       "array([-1.  , -1.56,  0.  ,  5.98,  8.26])"
      ]
     },
     "execution_count": 39,
     "metadata": {},
     "output_type": "execute_result"
    }
   ],
   "source": [
    "arr=np.array([-1,-1.56,0,5.98,8.26])\n",
    "arr"
   ]
  },
  {
   "cell_type": "code",
   "execution_count": 40,
   "metadata": {},
   "outputs": [
    {
     "data": {
      "text/plain": [
       "array([-1.56, -1.  ,  0.  ,  5.98,  8.26])"
      ]
     },
     "execution_count": 40,
     "metadata": {},
     "output_type": "execute_result"
    }
   ],
   "source": [
    "arr.sort()\n",
    "arr"
   ]
  },
  {
   "cell_type": "markdown",
   "metadata": {},
   "source": [
    "### unique and other set logic"
   ]
  },
  {
   "cell_type": "code",
   "execution_count": 41,
   "metadata": {},
   "outputs": [
    {
     "data": {
      "text/plain": [
       "array(['Hari', 'charles', 'selvan', 'surya'], dtype='<U7')"
      ]
     },
     "execution_count": 41,
     "metadata": {},
     "output_type": "execute_result"
    }
   ],
   "source": [
    "names=np.array(['selvan','Hari','charles','Hari','charles','surya'])\n",
    "np.unique(names)"
   ]
  },
  {
   "cell_type": "code",
   "execution_count": 42,
   "metadata": {},
   "outputs": [
    {
     "data": {
      "text/plain": [
       "['Hari', 'charles', 'selvan', 'surya']"
      ]
     },
     "execution_count": 42,
     "metadata": {},
     "output_type": "execute_result"
    }
   ],
   "source": [
    "sorted(set(names))"
   ]
  },
  {
   "cell_type": "code",
   "execution_count": 43,
   "metadata": {},
   "outputs": [
    {
     "data": {
      "text/plain": [
       "array([1, 2, 3, 4])"
      ]
     },
     "execution_count": 43,
     "metadata": {},
     "output_type": "execute_result"
    }
   ],
   "source": [
    "ints=np.array([3,3,3,2,2,1,1,4,4])\n",
    "np.unique(ints)"
   ]
  },
  {
   "cell_type": "code",
   "execution_count": 44,
   "metadata": {},
   "outputs": [
    {
     "data": {
      "text/plain": [
       "array([ True, False, False,  True,  True, False,  True])"
      ]
     },
     "execution_count": 44,
     "metadata": {},
     "output_type": "execute_result"
    }
   ],
   "source": [
    "values=np.array([6,0,0,3,2,5,6])\n",
    "np.in1d(values,[2,3,6])"
   ]
  },
  {
   "cell_type": "markdown",
   "metadata": {},
   "source": [
    "### Array set operations"
   ]
  },
  {
   "cell_type": "markdown",
   "metadata": {},
   "source": [
    "unique(x)\n",
    "intersect1d(x,y)\n",
    "union1d(x,y)\n",
    "in1d(x,y)\n",
    "setdiff1d(x,y)\n",
    "setxor1d(x,y)"
   ]
  },
  {
   "cell_type": "code",
   "execution_count": 45,
   "metadata": {},
   "outputs": [
    {
     "data": {
      "text/plain": [
       "array([1, 3])"
      ]
     },
     "execution_count": 45,
     "metadata": {},
     "output_type": "execute_result"
    }
   ],
   "source": [
    "#intersect1d(x,y)\n",
    "np.intersect1d([1, 3, 4, 3], [3, 1, 2, 1])\n"
   ]
  },
  {
   "cell_type": "code",
   "execution_count": 46,
   "metadata": {},
   "outputs": [
    {
     "data": {
      "text/plain": [
       "array([3])"
      ]
     },
     "execution_count": 46,
     "metadata": {},
     "output_type": "execute_result"
    }
   ],
   "source": [
    "#To intersect more than two arrays, use functools.reduce:\n",
    "from functools import reduce\n",
    "reduce(np.intersect1d, ([1, 3, 4, 3], [3, 1, 2, 1], [6, 3, 4, 2]))"
   ]
  },
  {
   "cell_type": "code",
   "execution_count": 42,
   "metadata": {},
   "outputs": [
    {
     "data": {
      "text/plain": [
       "array([[0, 2],\n",
       "       [4, 6]])"
      ]
     },
     "execution_count": 42,
     "metadata": {},
     "output_type": "execute_result"
    }
   ],
   "source": [
    "#isin\n",
    "element=2*np.arange(4).reshape(2,2)\n",
    "element"
   ]
  },
  {
   "cell_type": "code",
   "execution_count": 43,
   "metadata": {},
   "outputs": [],
   "source": [
    "test_element=[1,2,4,8]"
   ]
  },
  {
   "cell_type": "code",
   "execution_count": 44,
   "metadata": {},
   "outputs": [
    {
     "data": {
      "text/plain": [
       "array([[False,  True],\n",
       "       [ True, False]])"
      ]
     },
     "execution_count": 44,
     "metadata": {},
     "output_type": "execute_result"
    }
   ],
   "source": [
    "mask=np.isin(element,test_element)\n",
    "mask"
   ]
  },
  {
   "cell_type": "code",
   "execution_count": 45,
   "metadata": {},
   "outputs": [
    {
     "data": {
      "text/plain": [
       "array([2, 4])"
      ]
     },
     "execution_count": 45,
     "metadata": {},
     "output_type": "execute_result"
    }
   ],
   "source": [
    "element[mask]"
   ]
  },
  {
   "cell_type": "code",
   "execution_count": 46,
   "metadata": {},
   "outputs": [
    {
     "data": {
      "text/plain": [
       "array([[ True, False],\n",
       "       [False,  True]])"
      ]
     },
     "execution_count": 46,
     "metadata": {},
     "output_type": "execute_result"
    }
   ],
   "source": [
    "mask=np.isin(element,test_element,invert=True)\n",
    "mask"
   ]
  },
  {
   "cell_type": "code",
   "execution_count": 47,
   "metadata": {},
   "outputs": [
    {
     "data": {
      "text/plain": [
       "array([0, 6])"
      ]
     },
     "execution_count": 47,
     "metadata": {},
     "output_type": "execute_result"
    }
   ],
   "source": [
    "element[mask]"
   ]
  },
  {
   "cell_type": "code",
   "execution_count": 49,
   "metadata": {},
   "outputs": [
    {
     "data": {
      "text/plain": [
       "array([1, 2, 8])"
      ]
     },
     "execution_count": 49,
     "metadata": {},
     "output_type": "execute_result"
    }
   ],
   "source": [
    "#setdiff1d\n",
    "a = np.array([1, 2, 3, 2, 4, 1,8])\n",
    "b = np.array([3, 4, 5, 6])\n",
    "np.setdiff1d(a,b)"
   ]
  },
  {
   "cell_type": "code",
   "execution_count": 52,
   "metadata": {},
   "outputs": [
    {
     "data": {
      "text/plain": [
       "array([1, 4, 5, 7, 9])"
      ]
     },
     "execution_count": 52,
     "metadata": {},
     "output_type": "execute_result"
    }
   ],
   "source": [
    "#setxor1d\n",
    "a = np.array([1, 2, 3, 2, 4])\n",
    "b = np.array([2, 3, 5, 7, 5,9])\n",
    "np.setxor1d(a,b)"
   ]
  },
  {
   "cell_type": "code",
   "execution_count": 53,
   "metadata": {},
   "outputs": [
    {
     "data": {
      "text/plain": [
       "array([-2, -1,  0,  1,  2])"
      ]
     },
     "execution_count": 53,
     "metadata": {},
     "output_type": "execute_result"
    }
   ],
   "source": [
    "#union1d\n",
    "np.union1d([-1, 0, 1], [-2, 0, 2])\n"
   ]
  },
  {
   "cell_type": "code",
   "execution_count": 54,
   "metadata": {},
   "outputs": [],
   "source": [
    "#To find the union of more than two arrays, use functools.reduce:\n",
    "from functools import reduce"
   ]
  },
  {
   "cell_type": "code",
   "execution_count": 55,
   "metadata": {},
   "outputs": [
    {
     "data": {
      "text/plain": [
       "array([1, 2, 3, 4, 6, 8])"
      ]
     },
     "execution_count": 55,
     "metadata": {},
     "output_type": "execute_result"
    }
   ],
   "source": [
    "reduce(np.union1d, ([1, 3, 4, 3,8], [3, 1, 2, 1], [6, 3, 4, 2]))"
   ]
  },
  {
   "cell_type": "code",
   "execution_count": null,
   "metadata": {},
   "outputs": [],
   "source": []
  }
 ],
 "metadata": {
  "kernelspec": {
   "display_name": "Python 3",
   "language": "python",
   "name": "python3"
  },
  "language_info": {
   "codemirror_mode": {
    "name": "ipython",
    "version": 3
   },
   "file_extension": ".py",
   "mimetype": "text/x-python",
   "name": "python",
   "nbconvert_exporter": "python",
   "pygments_lexer": "ipython3",
   "version": "3.6.5"
  }
 },
 "nbformat": 4,
 "nbformat_minor": 2
}
